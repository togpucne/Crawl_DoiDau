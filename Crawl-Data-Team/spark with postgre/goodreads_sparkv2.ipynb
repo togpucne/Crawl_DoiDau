{
 "cells": [
  {
   "cell_type": "code",
   "execution_count": 91,
   "metadata": {},
   "outputs": [],
   "source": [
    "from pyspark.sql import SparkSession\n",
    "from pyspark.sql.functions import col, regexp_replace, to_date, year, count, avg, monotonically_increasing_id, when"
   ]
  },
  {
   "cell_type": "code",
   "execution_count": 92,
   "metadata": {},
   "outputs": [],
   "source": [
    "# Khởi tạo phiên Spark với MongoDB và PostgreSQL\n",
    "spark = SparkSession.builder \\\n",
    "    .appName(\"Goodreads Spark with MongoDB and PostgreSQL\") \\\n",
    "    .config(\"spark.jars.packages\", \"org.mongodb.spark:mongo-spark-connector_2.12:3.0.1,org.postgresql:postgresql:42.7.4\") \\\n",
    "    .config(\"spark.mongodb.read.connection.uri\", \"mongodb://localhost:27017/goodreads_db.books\") \\\n",
    "    .getOrCreate()\n"
   ]
  },
  {
   "cell_type": "code",
   "execution_count": 93,
   "metadata": {},
   "outputs": [],
   "source": [
    "# Thiết lập chính sách phân tích cú pháp thời gian thành LEGACY để xử lý ngày tháng cũ\n",
    "spark.conf.set(\"spark.sql.legacy.timeParserPolicy\", \"LEGACY\")\n"
   ]
  },
  {
   "cell_type": "code",
   "execution_count": 94,
   "metadata": {},
   "outputs": [],
   "source": [
    "# Cài đặt mức độ log\n",
    "spark.sparkContext.setLogLevel(\"INFO\")\n"
   ]
  },
  {
   "cell_type": "code",
   "execution_count": 95,
   "metadata": {},
   "outputs": [],
   "source": [
    "# Đọc dữ liệu từ MongoDB với một số tùy chọn tối ưu hóa (nếu dataset lớn)\n",
    "df = spark.read \\\n",
    "    .format(\"mongo\") \\\n",
    "    .option(\"uri\", \"mongodb://localhost:27017/goodreads_db.books\") \\\n",
    "    .option(\"partitioner\", \"MongoPaginateBySizePartitioner\") \\\n",
    "    .option(\"partitionSizeMB\", \"64\") \\\n",
    "    .load()"
   ]
  },
  {
   "cell_type": "code",
   "execution_count": 96,
   "metadata": {},
   "outputs": [
    {
     "name": "stdout",
     "output_type": "stream",
     "text": [
      "+---------------+--------------------+--------------------+--------------------+--------------------+-----------------+-----+----+------+-------+---------+--------------------+--------------------+\n",
      "|         Author|          Cover Type|                Date|         Description|              Genres|Number of Ratings|Pages|Rank|Rating|Reviews|    Score|               Title|                 _id|\n",
      "+---------------+--------------------+--------------------+--------------------+--------------------+-----------------+-----+----+------+-------+---------+--------------------+--------------------+\n",
      "|Suzanne Collins|           Hardcover|First published S...|In the ruins of a...|Young Adult, Fict...|        8,966,467|  374|   1|  4.34|225,421|3,909,827|The Hunger Games ...|{66fc2377c408ed21...|\n",
      "|     C.S. Lewis|           Paperback|First published J...|Journeys to the e...|Fantasy, Classics...|          667,731|  767|   9|  4.28| 12,850|1,460,608|The Chronicles of...|{66fc2379c408ed21...|\n",
      "|  George Orwell|Mass Market Paper...|First published A...|A farm is taken o...|Classics, Fiction...|        4,037,726|  141|   7|  3.99|103,396|1,584,824|         Animal Farm|{66fc2379c408ed21...|\n",
      "|    Jane Austen|           Paperback|First published J...|Since its immedia...|Fiction, Historic...|        4,379,959|  279|   3|  4.29|122,204|2,767,729| Pride and Prejudice|{66fc2379c408ed21...|\n",
      "|Stephenie Meyer|           Paperback|First published O...|About three thing...|Fantasy, Young Ad...|        6,771,252|  498|   6|  3.66|134,418|1,695,599|Twilight (The Twi...|{66fc2379c408ed21...|\n",
      "+---------------+--------------------+--------------------+--------------------+--------------------+-----------------+-----+----+------+-------+---------+--------------------+--------------------+\n",
      "only showing top 5 rows\n",
      "\n",
      "root\n",
      " |-- Author: string (nullable = true)\n",
      " |-- Cover Type: string (nullable = true)\n",
      " |-- Date: string (nullable = true)\n",
      " |-- Description: string (nullable = true)\n",
      " |-- Genres: string (nullable = true)\n",
      " |-- Number of Ratings: string (nullable = true)\n",
      " |-- Pages: string (nullable = true)\n",
      " |-- Rank: string (nullable = true)\n",
      " |-- Rating: string (nullable = true)\n",
      " |-- Reviews: string (nullable = true)\n",
      " |-- Score: string (nullable = true)\n",
      " |-- Title: string (nullable = true)\n",
      " |-- _id: struct (nullable = true)\n",
      " |    |-- oid: string (nullable = true)\n",
      "\n"
     ]
    }
   ],
   "source": [
    "# Hiển thị dữ liệu từ MongoDB ban đầu\n",
    "df.show(5)\n",
    "df.printSchema()"
   ]
  },
  {
   "cell_type": "code",
   "execution_count": 97,
   "metadata": {},
   "outputs": [],
   "source": [
    "# Bước 1: Xử lý cột publish_date - Loại bỏ tiền tố \"First published\" và chuyển đổi thành kiểu ngày tháng\n",
    "df = df.withColumn(\"cleaned_date\", regexp_replace(col(\"Date\"), \"First published \", \"\")) \\\n",
    "       .withColumn(\"publish_date\", to_date(col(\"cleaned_date\"), \"MMMM d, yyyy\"))\n",
    "\n",
    "# Bước 2: Xử lý dữ liệu có dạng \"8,932,568\" - Loại bỏ dấu phẩy\n",
    "df = df.withColumn(\"Number of Ratings\", regexp_replace(col(\"Number of Ratings\"), \",\", \"\")) \\\n",
    "       .withColumn(\"Reviews\", regexp_replace(col(\"Reviews\"), \",\", \"\")) \\\n",
    "       .withColumn(\"Score\", regexp_replace(col(\"Score\"), \",\", \"\"))\n",
    "\n",
    "# Bước 3: Chuyển đổi kiểu dữ liệu sau khi loại bỏ dấu phẩy\n",
    "df = df.withColumn(\"Pages\", col(\"Pages\").cast(\"int\")) \\\n",
    "       .withColumn(\"Rating\", col(\"Rating\").cast(\"float\")) \\\n",
    "       .withColumn(\"Number of Ratings\", col(\"Number of Ratings\").cast(\"int\")) \\\n",
    "       .withColumn(\"Reviews\", col(\"Reviews\").cast(\"int\")) \\\n",
    "       .withColumn(\"Score\", col(\"Score\").cast(\"int\"))\n",
    "\n",
    "# Bước 4: Xử lý dữ liệu null, nếu có giá trị null sẽ thay bằng giá trị mặc định\n",
    "df = df.na.fill({\n",
    "    \"Pages\": 0,\n",
    "    \"Rating\": 0.0,\n",
    "    \"Number of Ratings\": 0,\n",
    "    \"Reviews\": 0,\n",
    "    \"Score\": 0\n",
    "})"
   ]
  },
  {
   "cell_type": "code",
   "execution_count": 98,
   "metadata": {},
   "outputs": [],
   "source": [
    "# Tạo các bảng từ dữ liệu\n",
    "\n",
    "# Bảng authors chứa thông tin về tác giả, sử dụng distinct để loại bỏ các giá trị trùng lặp\n",
    "authors_df = df.select(\"Author\").distinct(\n",
    ").withColumnRenamed(\"Author\", \"author_name\")\n",
    "\n",
    "# Bảng books chứa thông tin về sách và ngày xuất bản\n",
    "books_df = df.select(\"Title\", \"Author\", \"Pages\", \"Cover Type\", \"publish_date\") \\\n",
    "             .withColumnRenamed(\"Title\", \"book_title\") \\\n",
    "             .withColumnRenamed(\"Author\", \"author_name\") \\\n",
    "             .withColumnRenamed(\"Pages\", \"num_pages\") \\\n",
    "             .withColumnRenamed(\"Cover Type\", \"cover_type\")\n",
    "\n",
    "# Thêm cột year_published\n",
    "books_df = books_df.withColumn(\"year_published\", year(col(\"publish_date\")))\n",
    "\n",
    "# Thêm cột num_authors_books: Số lượng sách mỗi tác giả đã viết\n",
    "author_book_count_df = books_df.groupBy(\"author_name\").agg(\n",
    "    count(\"book_title\").alias(\"num_authors_books\"))\n",
    "books_df = books_df.join(author_book_count_df, \"author_name\", \"left\")\n",
    "\n",
    "# Bảng ratings chứa thông tin về đánh giá\n",
    "ratings_df = df.select(\"Title\", \"Rating\", \"Number of Ratings\", \"Reviews\", \"Score\") \\\n",
    "               .withColumnRenamed(\"Title\", \"book_title\") \\\n",
    "               .withColumnRenamed(\"Rating\", \"rating\") \\\n",
    "               .withColumnRenamed(\"Number of Ratings\", \"num_ratings\") \\\n",
    "               .withColumnRenamed(\"Reviews\", \"num_reviews\") \\\n",
    "               .withColumnRenamed(\"Score\", \"score\")"
   ]
  },
  {
   "cell_type": "code",
   "execution_count": 99,
   "metadata": {},
   "outputs": [],
   "source": [
    "# Thêm cột rating_category\n",
    "ratings_df = ratings_df.withColumn(\n",
    "    \"rating_category\",\n",
    "    when(col(\"rating\") >= 4.5, \"Excellent\")\n",
    "    .when((col(\"rating\") >= 3.5) & (col(\"rating\") < 4.5), \"Good\")\n",
    "    .otherwise(\"Average\")\n",
    ")\n",
    "\n",
    "# Thêm cột average_author_rating: Đánh giá trung bình của mỗi tác giả dựa trên các sách\n",
    "author_avg_rating_df = ratings_df.join(books_df, \"book_title\", \"inner\") \\\n",
    "    .groupBy(\"author_name\").agg(avg(\"rating\").alias(\"average_author_rating\"))"
   ]
  },
  {
   "cell_type": "code",
   "execution_count": 100,
   "metadata": {},
   "outputs": [],
   "source": [
    "# Bảng genres chứa thông tin về thể loại\n",
    "genres_df = df.select(\"Genres\").distinct(\n",
    ").withColumnRenamed(\"Genres\", \"genre_name\")\n",
    "\n",
    "# Thêm cột book_count_by_genre\n",
    "genre_book_count_df = df.groupBy(\"Genres\").agg(\n",
    "    count(\"Title\").alias(\"book_count_by_genre\"))\n",
    "genres_df = genres_df.join(genre_book_count_df.withColumnRenamed(\n",
    "    \"Genres\", \"genre_name\"), \"genre_name\", \"left\")"
   ]
  },
  {
   "cell_type": "code",
   "execution_count": 101,
   "metadata": {},
   "outputs": [],
   "source": [
    "# Bảng books_genres liên kết nhiều-nhiều\n",
    "books_genres_df = df.select(\"Title\", \"Genres\") \\\n",
    "    .withColumnRenamed(\"Title\", \"book_title\") \\\n",
    "    .withColumnRenamed(\"Genres\", \"genre_name\")"
   ]
  },
  {
   "cell_type": "code",
   "execution_count": 102,
   "metadata": {},
   "outputs": [],
   "source": [
    "# Tạo khóa chính cho bảng books và authors\n",
    "books_df = books_df.withColumn(\"book_id\", monotonically_increasing_id())\n",
    "authors_df = authors_df.withColumn(\"author_id\", monotonically_increasing_id())\n",
    "\n",
    "# Thêm khóa ngoại vào bảng ratings để kết nối với bảng books\n",
    "ratings_df = ratings_df.join(books_df.select(\n",
    "    \"book_title\", \"book_id\"), on=\"book_title\", how=\"inner\")\n",
    "\n",
    "# Thêm khóa ngoại vào bảng books để kết nối với bảng authors\n",
    "books_df = books_df.join(authors_df.select(\n",
    "    \"author_name\", \"author_id\"), on=\"author_name\", how=\"inner\")"
   ]
  },
  {
   "cell_type": "code",
   "execution_count": 103,
   "metadata": {},
   "outputs": [],
   "source": [
    "# Xử lý bảng books_genres (quan hệ nhiều-nhiều)\n",
    "books_genres_df = books_genres_df.join(books_df.select(\"book_title\", \"book_id\"), on=\"book_title\", how=\"inner\") \\\n",
    "    .join(genres_df.select(\"genre_name\"), on=\"genre_name\", how=\"inner\") \\\n",
    "    .select(\"book_id\", \"genre_name\")"
   ]
  },
  {
   "cell_type": "code",
   "execution_count": 104,
   "metadata": {},
   "outputs": [],
   "source": [
    "# Loại bỏ các giá trị rỗng hoặc bằng 0\n",
    "books_df = books_df.filter((books_df[\"num_pages\"] > 0) & (\n",
    "    books_df[\"publish_date\"].isNotNull()))\n",
    "ratings_df = ratings_df.filter(\n",
    "    (ratings_df[\"rating\"] > 0) & (ratings_df[\"num_ratings\"] > 0))"
   ]
  },
  {
   "cell_type": "code",
   "execution_count": 105,
   "metadata": {},
   "outputs": [
    {
     "name": "stdout",
     "output_type": "stream",
     "text": [
      "Đã ghi thành công bảng authors vào PostgreSQL!\n",
      "Đã ghi thành công bảng books vào PostgreSQL!\n",
      "Đã ghi thành công bảng ratings vào PostgreSQL!\n",
      "Đã ghi thành công bảng genres vào PostgreSQL!\n",
      "Đã ghi thành công bảng books_genres vào PostgreSQL!\n"
     ]
    }
   ],
   "source": [
    "# Kết nối tới PostgreSQL và lưu lại các bảng\n",
    "jdbc_url = \"jdbc:postgresql://localhost:5432/goodreads_booksv2\"\n",
    "connection_properties = {\n",
    "    \"user\": \"postgres\",\n",
    "    \"password\": \"fafa123123haha.\",\n",
    "    \"driver\": \"org.postgresql.Driver\"\n",
    "}\n",
    "\n",
    "\n",
    "def write_to_postgres(df, table_name):\n",
    "    try:\n",
    "        df.write.jdbc(\n",
    "            url=jdbc_url,\n",
    "            table=table_name,\n",
    "            mode=\"overwrite\",\n",
    "            properties=connection_properties\n",
    "        )\n",
    "        print(f\"Đã ghi thành công bảng {table_name} vào PostgreSQL!\")\n",
    "    except Exception as e:\n",
    "        print(f\"Lỗi khi ghi bảng {table_name} vào PostgreSQL: {e}\")\n",
    "\n",
    "\n",
    "# Lưu các bảng vào PostgreSQL\n",
    "write_to_postgres(authors_df, \"authors\")\n",
    "write_to_postgres(books_df, \"books\")\n",
    "write_to_postgres(ratings_df, \"ratings\")\n",
    "write_to_postgres(genres_df, \"genres\")\n",
    "write_to_postgres(books_genres_df, \"books_genres\")"
   ]
  }
 ],
 "metadata": {
  "kernelspec": {
   "display_name": "base",
   "language": "python",
   "name": "python3"
  },
  "language_info": {
   "codemirror_mode": {
    "name": "ipython",
    "version": 3
   },
   "file_extension": ".py",
   "mimetype": "text/x-python",
   "name": "python",
   "nbconvert_exporter": "python",
   "pygments_lexer": "ipython3",
   "version": "3.11.4"
  }
 },
 "nbformat": 4,
 "nbformat_minor": 2
}
